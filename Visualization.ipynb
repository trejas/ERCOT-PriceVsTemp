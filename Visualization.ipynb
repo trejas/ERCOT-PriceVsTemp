{
 "cells": [
  {
   "cell_type": "markdown",
   "metadata": {},
   "source": [
    "# Predictive Analysis: Weather and ERCOT Prices"
   ]
  },
  {
   "cell_type": "markdown",
   "metadata": {},
   "source": [
    "![Power Lines](https://www.fae-group.com/images/applicazioni/header/Applications_power_lines_fae.jpg)"
   ]
  },
  {
   "cell_type": "markdown",
   "metadata": {},
   "source": [
    "The data for this analysis comes from:\n",
    "- [Weather](http://mrcc.isws.illinois.edu/) - Midwestern Regional Climate Center: MRCC\n",
    "- [Day Ahead Pricing](http://mis.ercot.com/misapp/GetReports.do?reportTypeId=13060&reportTitle=Historical%20DAM%20Load%20Zone%20and%20Hub%20Prices&showHTMLView=&mimicKey) - ERCOT Market Prices\n",
    "- [RTM Pricing](http://mis.ercot.com/misapp/GetReports.do?reportTypeId=13061&reportTitle=Historical%20RTM%20Load%20Zone%20and%20Hub%20Prices&showHTMLView=&mimicKey) - ERCOT Market Prices\n",
    "\n",
    "## Question\n",
    "1. Is there a correlation between weather and electricty pricing.\n",
    "2. Is the correlation stronger between Spot Pricing or Day ahead pricing?\n",
    "3. Can the correlation be used with a neural network to generate price prediction?\n",
    "4. If not, can the correlation be used to generate a pricing direction signal?\n",
    "\n",
    "## Methodology\n",
    "1. Download data from source sites\n",
    "2. Convert to CSV using VBA in excel\n",
    "3. Aggregate CSV files to single data frame for:\n",
    "  - Spot Pricing\n",
    "  - DA Pricing\n",
    "  - Weather\n",
    "4. Clean data and create calculated features\n",
    "5. Create Neural Net in Tensorflow\n",
    "6. Train and analyze\n",
    "7. Setup trained model as a webservice\n",
    "8. Feed forecast data to model to generate price predictions"
   ]
  },
  {
   "cell_type": "markdown",
   "metadata": {},
   "source": [
    "![Heat Map of Texas](http://www.ercot.com/content/wcm/landing_pages/88828/Weather_Map.png)"
   ]
  },
  {
   "cell_type": "markdown",
   "metadata": {},
   "source": [
    "### Import Components and Data"
   ]
  },
  {
   "cell_type": "code",
   "execution_count": 121,
   "metadata": {},
   "outputs": [],
   "source": [
    "# import packages\n",
    "import matplotlib.pyplot as plt\n",
    "import datetime\n",
    "import pandas as pd\n",
    "import numpy as np\n",
    "\n",
    "# Data ingestion done in separate python scripts\n",
    "import load_spot_pricing_data as sp_pricing\n",
    "import load_day_ahead_pricing_data as da_pricing\n",
    "import load_weather_data as weather"
   ]
  },
  {
   "cell_type": "code",
   "execution_count": 138,
   "metadata": {},
   "outputs": [],
   "source": [
    "# Spot Pricing DataFrame\n",
    "sp_houston = sp_pricing.spot_pricing_df[sp_pricing.spot_pricing_df['Settlement Point Name'] == 'HB_HOUSTON'].copy()\n",
    "sp_houston = sp_houston[sp_houston['Delivery Interval'] <= 1]\n",
    "sp_houston = sp_houston.sort_values(by=['Delivery Date', 'Delivery Hour']).reset_index(drop=True)\n",
    "sp_houston['Hour Number'] = sp_houston.index\n",
    "sp_houston['Settlement Point Price'] = pd.to_numeric(sp_houston['Settlement Point Price'], errors='coerce')\n",
    "sp_houston['SPP 10 DMA'] = sp_houston['Settlement Point Price'].rolling(window=240).mean()\n",
    "sp_houston['SPP 10 Mean Dev'] = sp_houston['Settlement Point Price'] - sp_houston['SPP 10 DMA']\n",
    "\n",
    "# Day Ahead Pricing DataFrame\n",
    "da_houston = da_pricing.day_ahead_pricing_df[da_pricing.day_ahead_pricing_df['Settlement Point'] == 'HB_HOUSTON'].copy()\n",
    "da_houston = da_houston.sort_values(by=['Delivery Date', 'Hour Ending']).reset_index(drop=True)\n",
    "da_houston['Hour Number'] = da_houston.index\n",
    "da_houston['Settlement Point Price'] = pd.to_numeric(da_houston['Settlement Point Price'], errors='coerce')\n",
    "da_houston = da_houston.fillna(method='bfill')\n",
    "da_houston['SPP 10 DMA'] = da_houston['Settlement Point Price'].rolling(window=240).mean()\n",
    "da_houston['SPP 10 Mean Dev'] = da_houston['Settlement Point Price'] - da_houston['SPP 10 DMA']\n",
    "da_houston['SPP 30 DMA'] = da_houston['Settlement Point Price'].rolling(window=720).mean()\n",
    "da_houston['SPP 30 Mean Dev'] = da_houston['Settlement Point Price'] - da_houston['SPP 30 DMA']\n",
    "\n",
    "# Weather DataFrame\n",
    "mod_weather_df = weather.weather_df\n",
    "mod_weather_df = mod_weather_df.sort_values(by=['Date']).reset_index(drop=True)\n",
    "mod_weather_df = mod_weather_df.select_dtypes(['float', 'int'])\n",
    "mod_weather_df = mod_weather_df.drop(['PeakWindGust', 'LowCloudHt', 'MedCloudHt', 'HighCloudHt', 'Visibility', 'WindDirection', 'SeaLevPress', 'Precip'], axis=1)\n",
    "mod_weather_df = mod_weather_df.fillna(method='bfill')\n",
    "mod_weather_df['Temp 10 DMA'] = mod_weather_df['Temp'].rolling(window=240).mean()\n",
    "mod_weather_df['Temp 10 Mean Dev'] = mod_weather_df['Temp'] - mod_weather_df['Temp 10 DMA']\n",
    "mod_weather_df['Temp 30 DMA'] = mod_weather_df['Temp'].rolling(window=720).mean()\n",
    "mod_weather_df['Temp 30 Mean Dev'] = mod_weather_df['Temp'] - mod_weather_df['Temp 30 DMA']\n",
    "mod_weather_df['AtmPress 10 DMA'] = mod_weather_df['AtmPress'].rolling(window=240).mean()\n",
    "mod_weather_df['AtmPress 10 Mean Dev'] = mod_weather_df['AtmPress'] - mod_weather_df['AtmPress 10 DMA']\n",
    "mod_weather_df['AtmPress 30 DMA'] = mod_weather_df['AtmPress'].rolling(window=720).mean()\n",
    "mod_weather_df['AtmPress 30 Mean Dev'] = mod_weather_df['AtmPress'] - mod_weather_df['AtmPress 30 DMA']"
   ]
  },
  {
   "cell_type": "markdown",
   "metadata": {},
   "source": [
    "### Data Features"
   ]
  },
  {
   "cell_type": "code",
   "execution_count": 139,
   "metadata": {},
   "outputs": [],
   "source": [
    "sp_joined = mod_weather_df[['Temp',\n",
    "                          'Temp 10 DMA',\n",
    "                          'Temp 10 Mean Dev',\n",
    "                          'AtmPress 10 Mean Dev']].join(sp_houston[['Settlement Point Price', 'SPP 10 DMA', 'SPP 10 Mean Dev']])"
   ]
  },
  {
   "cell_type": "code",
   "execution_count": 140,
   "metadata": {
    "scrolled": false
   },
   "outputs": [
    {
     "name": "stdout",
     "output_type": "stream",
     "text": [
      "Temp 10 Mean Dev         -0.037532\n",
      "Temp 10 DMA               0.032077\n",
      "AtmPress 10 Mean Dev      0.043609\n",
      "SPP 10 Mean Dev           0.990598\n",
      "Settlement Point Price    1.000000\n",
      "Name: Settlement Point Price, dtype: float64\n"
     ]
    }
   ],
   "source": [
    "print(sp_joined.loc[3600:5600, ['Temp 10 Mean Dev',\n",
    "                                'Temp 10 DMA',\n",
    "                                'AtmPress 10 Mean Dev',\n",
    "                                'SPP 10 Mean Dev', \n",
    "                                'Settlement Point Price']].corr()['Settlement Point Price'])"
   ]
  },
  {
   "cell_type": "markdown",
   "metadata": {},
   "source": [
    "**While there is some correlation between the 'Settlement Point Price' and the other data fields. This does not look like it is storng enough to make any predictions.**"
   ]
  },
  {
   "cell_type": "code",
   "execution_count": 141,
   "metadata": {},
   "outputs": [],
   "source": [
    "da_joined = mod_weather_df[['Temp',\n",
    "                            'AtmPress',\n",
    "                            'Temp 10 DMA',\n",
    "                            'Temp 30 DMA',\n",
    "                            'AtmPress 10 DMA',\n",
    "                            'AtmPress 30 DMA',\n",
    "                            'Temp 10 Mean Dev',\n",
    "                            'Temp 30 Mean Dev',\n",
    "                            'AtmPress 10 Mean Dev',\n",
    "                            'AtmPress 30 Mean Dev']].join(da_houston[['Settlement Point Price', 'SPP 10 DMA', 'SPP 30 DMA']])"
   ]
  },
  {
   "cell_type": "code",
   "execution_count": 143,
   "metadata": {},
   "outputs": [],
   "source": [
    "da_joined = da_joined.dropna(axis=0, how='any')\n",
    "# da_joined[da_joined['Settlement Point Price'].isnull()]\n",
    "# da_joined[da_joined['Settlement Point Price'].isnull()]"
   ]
  },
  {
   "cell_type": "code",
   "execution_count": 144,
   "metadata": {},
   "outputs": [
    {
     "name": "stdout",
     "output_type": "stream",
     "text": [
      "AtmPress                  0.020932\n",
      "Temp                     -0.061772\n",
      "AtmPress 10 DMA           0.004819\n",
      "AtmPress 30 DMA           0.006387\n",
      "AtmPress 10 Mean Dev      0.020085\n",
      "AtmPress 30 Mean Dev      0.019658\n",
      "SPP 10 DMA                0.183513\n",
      "SPP 30 DMA                0.154073\n",
      "Temp 10 DMA              -0.018674\n",
      "Temp 30 DMA              -0.016125\n",
      "Temp 10 Mean Dev         -0.073709\n",
      "Temp 30 Mean Dev         -0.073930\n",
      "Settlement Point Price    1.000000\n",
      "Name: Settlement Point Price, dtype: float64\n"
     ]
    }
   ],
   "source": [
    "print(da_joined.loc[:, ['AtmPress',\n",
    "                        'Temp',\n",
    "                        'AtmPress 10 DMA',\n",
    "                        'AtmPress 30 DMA',\n",
    "                        'AtmPress 10 Mean Dev',\n",
    "                        'AtmPress 30 Mean Dev',\n",
    "                        'SPP 10 DMA',\n",
    "                        'SPP 30 DMA',\n",
    "                        'Temp 10 DMA',\n",
    "                        'Temp 30 DMA',\n",
    "                        'Temp 10 Mean Dev',\n",
    "                        'Temp 30 Mean Dev',\n",
    "                        'Settlement Point Price']].corr()['Settlement Point Price'])"
   ]
  },
  {
   "cell_type": "code",
   "execution_count": 145,
   "metadata": {},
   "outputs": [],
   "source": [
    "# Min-Max Normalize Joined DataFrame\n",
    "# da_joined = da_joined[np.abs(da_joined['Settlement Point Price']-da_joined['Settlement Point Price'].mean())<=(2*da_joined['Settlement Point Price'].std())]\n",
    "da_joined = (da_joined-da_joined.min())/(da_joined.max()-da_joined.min())\n",
    "da_joined['Settlement Point Price'] = da_joined.applymap(lambda x: np.log(x+1))"
   ]
  },
  {
   "cell_type": "code",
   "execution_count": 146,
   "metadata": {
    "scrolled": false
   },
   "outputs": [
    {
     "data": {
      "text/plain": [
       "<matplotlib.axes._subplots.AxesSubplot at 0x2a025782080>"
      ]
     },
     "execution_count": 146,
     "metadata": {},
     "output_type": "execute_result"
    },
    {
     "data": {
      "image/png": "[encoded data removed]",
      "text/plain": [
       "<matplotlib.figure.Figure at 0x2a025782860>"
      ]
     },
     "metadata": {},
     "output_type": "display_data"
    }
   ],
   "source": [
    "da_joined.reset_index().plot.scatter(x='index', y='Settlement Point Price', title='Price Vs Time')"
   ]
  },
  {
   "cell_type": "code",
   "execution_count": 147,
   "metadata": {},
   "outputs": [
    {
     "data": {
      "text/plain": [
       "<matplotlib.axes._subplots.AxesSubplot at 0x2a02575f860>"
      ]
     },
     "execution_count": 147,
     "metadata": {},
     "output_type": "execute_result"
    },
    {
     "data": {
      "image/png": "[encoded data removed]",
      "text/plain": [
       "<matplotlib.figure.Figure at 0x2a02577a400>"
      ]
     },
     "metadata": {},
     "output_type": "display_data"
    }
   ],
   "source": [
    "da_joined.reset_index().plot.scatter(x='index', y='Temp', title='Temp Vs Time')"
   ]
  },
  {
   "cell_type": "code",
   "execution_count": 148,
   "metadata": {},
   "outputs": [
    {
     "data": {
      "text/plain": [
       "<matplotlib.axes._subplots.AxesSubplot at 0x2a025777860>"
      ]
     },
     "execution_count": 148,
     "metadata": {},
     "output_type": "execute_result"
    },
    {
     "data": {
      "image/png": "[encoded data removed]",
      "text/plain": [
       "<matplotlib.figure.Figure at 0x2a02741d4a8>"
      ]
     },
     "metadata": {},
     "output_type": "display_data"
    }
   ],
   "source": [
    "da_joined.reset_index().plot.scatter(x='Settlement Point Price', y='Temp', title='Price vs Temp')"
   ]
  },
  {
   "cell_type": "code",
   "execution_count": 149,
   "metadata": {
    "scrolled": false
   },
   "outputs": [
    {
     "data": {
      "text/plain": [
       "<matplotlib.axes._subplots.AxesSubplot at 0x2a027281f60>"
      ]
     },
     "execution_count": 149,
     "metadata": {},
     "output_type": "execute_result"
    },
    {
     "data": {
      "image/png": "[encoded data removed]",
      "text/plain": [
       "<matplotlib.figure.Figure at 0x2a02742b8d0>"
      ]
     },
     "metadata": {},
     "output_type": "display_data"
    }
   ],
   "source": [
    "da_joined[da_joined[\"Settlement Point Price\"] > 0][\"Settlement Point Price\"].plot.hist(bins=200, figsize=[15,5], density=True, title='Distribution of Prices')"
   ]
  },
  {
   "cell_type": "code",
   "execution_count": 150,
   "metadata": {
    "scrolled": true
   },
   "outputs": [
    {
     "data": {
      "text/plain": [
       "<matplotlib.axes._subplots.AxesSubplot at 0x2a02732cd30>"
      ]
     },
     "execution_count": 150,
     "metadata": {},
     "output_type": "execute_result"
    },
    {
     "data": {
      "image/png": "[encoded data removed]",
      "text/plain": [
       "<matplotlib.figure.Figure at 0x2a0272ee9e8>"
      ]
     },
     "metadata": {},
     "output_type": "display_data"
    }
   ],
   "source": [
    "da_joined[\"Temp\"].plot.hist(bins=200, figsize=[15,5], density=True, title='Distribution of Temperatures')"
   ]
  },
  {
   "cell_type": "code",
   "execution_count": 151,
   "metadata": {},
   "outputs": [
    {
     "name": "stdout",
     "output_type": "stream",
     "text": [
      "AtmPress                 -0.570188\n",
      "Temp                      0.997793\n",
      "AtmPress 10 DMA          -0.499310\n",
      "AtmPress 30 DMA          -0.625489\n",
      "AtmPress 10 Mean Dev     -0.297189\n",
      "AtmPress 30 Mean Dev     -0.290193\n",
      "SPP 10 DMA               -0.096436\n",
      "SPP 30 DMA               -0.121805\n",
      "Temp 10 DMA               0.766118\n",
      "Temp 30 DMA               0.736885\n",
      "Temp 10 Mean Dev          0.605128\n",
      "Temp 30 Mean Dev          0.643777\n",
      "Settlement Point Price    1.000000\n",
      "Name: Settlement Point Price, dtype: float64\n"
     ]
    }
   ],
   "source": [
    "print(da_joined.loc[:, ['AtmPress',\n",
    "                        'Temp',\n",
    "                        'AtmPress 10 DMA',\n",
    "                        'AtmPress 30 DMA',\n",
    "                        'AtmPress 10 Mean Dev',\n",
    "                        'AtmPress 30 Mean Dev',\n",
    "                        'SPP 10 DMA',\n",
    "                        'SPP 30 DMA',\n",
    "                        'Temp 10 DMA',\n",
    "                        'Temp 30 DMA',\n",
    "                        'Temp 10 Mean Dev',\n",
    "                        'Temp 30 Mean Dev',\n",
    "                        'Settlement Point Price']].corr()['Settlement Point Price'])"
   ]
  },
  {
   "cell_type": "markdown",
   "metadata": {},
   "source": [
    "### Prepping Data for training"
   ]
  },
  {
   "cell_type": "code",
   "execution_count": 152,
   "metadata": {},
   "outputs": [],
   "source": [
    "import keras\n",
    "from keras.utils import np_utils\n",
    "from keras.models import Sequential\n",
    "from keras.layers.core import Dense, Dropout, Activation\n",
    "from keras.wrappers.scikit_learn import KerasRegressor\n",
    "from sklearn.model_selection import cross_val_score\n",
    "from sklearn.model_selection import KFold"
   ]
  },
  {
   "cell_type": "code",
   "execution_count": 153,
   "metadata": {},
   "outputs": [],
   "source": [
    "# Take a random sample for testing\n",
    "sample = np.random.choice(da_joined.index, size=int(len(da_joined)*0.9), replace=False)\n",
    "train_data = da_joined.loc[sample]\n",
    "test_data = da_joined.drop(sample)\n",
    "features = np.array(train_data.drop('Settlement Point Price', axis=1))\n",
    "targets = np.array(train_data['Settlement Point Price'])\n",
    "features_test =  np.array(test_data.drop('Settlement Point Price', axis=1))\n",
    "targets_test = np.array(test_data['Settlement Point Price'])"
   ]
  },
  {
   "cell_type": "markdown",
   "metadata": {},
   "source": [
    "#### Train and evaluate with simple MSE manual validation"
   ]
  },
  {
   "cell_type": "code",
   "execution_count": 154,
   "metadata": {},
   "outputs": [
    {
     "name": "stdout",
     "output_type": "stream",
     "text": [
      "Train on 38780 samples, validate on 4309 samples\n",
      "Epoch 1/5\n",
      "38780/38780 [==============================] - 62s 2ms/step - loss: 0.0029 - mean_squared_error: 0.0029 - val_loss: 1.6504e-04 - val_mean_squared_error: 1.6504e-04\n",
      "Epoch 2/5\n",
      "38780/38780 [==============================] - 44s 1ms/step - loss: 9.0245e-05 - mean_squared_error: 9.0245e-05 - val_loss: 4.7438e-05 - val_mean_squared_error: 4.7438e-05\n",
      "Epoch 3/5\n",
      "38780/38780 [==============================] - 38s 985us/step - loss: 4.6042e-05 - mean_squared_error: 4.6042e-05 - val_loss: 3.8165e-05 - val_mean_squared_error: 3.8165e-05\n",
      "Epoch 4/5\n",
      "38780/38780 [==============================] - 39s 1ms/step - loss: 4.0893e-05 - mean_squared_error: 4.0893e-05 - val_loss: 3.5992e-05 - val_mean_squared_error: 3.5992e-05\n",
      "Epoch 5/5\n",
      "38780/38780 [==============================] - 38s 980us/step - loss: 3.9294e-05 - mean_squared_error: 3.9294e-05 - val_loss: 3.5111e-05 - val_mean_squared_error: 3.5111e-05\n"
     ]
    },
    {
     "data": {
      "text/plain": [
       "<keras.callbacks.History at 0x2a02524c9b0>"
      ]
     },
     "execution_count": 154,
     "metadata": {},
     "output_type": "execute_result"
    }
   ],
   "source": [
    "##define base model\n",
    "model = Sequential()\n",
    "model.add(Dense(32, input_shape=[features.shape[1]], kernel_initializer='normal', activation='sigmoid'))\n",
    "model.add(Dense(1, kernel_initializer='normal', activation=\"linear\"))\n",
    "sgd=keras.optimizers.SGD(lr=0.01)\n",
    "model.compile(optimizer=sgd ,loss='mse',metrics=['mse'])\n",
    "\n",
    "# Train Model\n",
    "model.fit(features,targets, validation_data=[features_test, targets_test], batch_size=1, epochs=5, shuffle=False, verbose=1)"
   ]
  },
  {
   "cell_type": "code",
   "execution_count": 157,
   "metadata": {},
   "outputs": [
    {
     "name": "stdout",
     "output_type": "stream",
     "text": [
      "[[ 0.31389806]]\n",
      "0.316337328212\n"
     ]
    }
   ],
   "source": [
    "print(model.predict(features[2].reshape(-1,12)))\n",
    "print(targets[2])"
   ]
  },
  {
   "cell_type": "markdown",
   "metadata": {},
   "source": [
    "#### Train and evaluate with Manual k-Fold Cross Validation"
   ]
  },
  {
   "cell_type": "code",
   "execution_count": 158,
   "metadata": {},
   "outputs": [
    {
     "name": "stdout",
     "output_type": "stream",
     "text": [
      "Epoch 1/1\n",
      "34902/34902 [==============================] - 10s 282us/step - loss: 0.0015 - mean_squared_error: 0.0015\n",
      "3878/3878 [==============================] - 1s 190us/step\n",
      "Epoch 1/1\n",
      "34902/34902 [==============================] - 10s 276us/step - loss: 0.0015 - mean_squared_error: 0.0015\n",
      "3878/3878 [==============================] - 1s 172us/step\n",
      "Epoch 1/1\n",
      "34902/34902 [==============================] - 11s 312us/step - loss: 0.0019 - mean_squared_error: 0.0019\n",
      "3878/3878 [==============================] - 1s 287us/step\n",
      "Epoch 1/1\n",
      "34902/34902 [==============================] - 9s 245us/step - loss: 0.0020 - mean_squared_error: 0.0020\n",
      "3878/3878 [==============================] - 1s 148us/step\n",
      "Epoch 1/1\n",
      "34902/34902 [==============================] - 9s 258us/step - loss: 0.0016 - mean_squared_error: 0.0016\n",
      "3878/3878 [==============================] - 1s 185us/step\n",
      "Epoch 1/1\n",
      "34902/34902 [==============================] - 11s 311us/step - loss: 0.0012 - mean_squared_error: 0.0012\n",
      "3878/3878 [==============================] - 1s 194us/step\n",
      "Epoch 1/1\n",
      "34902/34902 [==============================] - 12s 348us/step - loss: 0.0018 - mean_squared_error: 0.0018s - los\n",
      "3878/3878 [==============================] - 2s 456us/step\n",
      "Epoch 1/1\n",
      "34902/34902 [==============================] - 12s 349us/step - loss: 0.0024 - mean_squared_error: 0.0024\n",
      "3878/3878 [==============================] - 1s 199us/step\n",
      "Epoch 1/1\n",
      "34902/34902 [==============================] - 12s 341us/step - loss: 0.0018 - mean_squared_error: 0.0018s - loss: 0.0018 - mean_s\n",
      "3878/3878 [==============================] - 1s 338us/step\n",
      "Epoch 1/1\n",
      "34902/34902 [==============================] - 15s 423us/step - loss: 0.0020 - mean_squared_error: 0.0020\n",
      "3878/3878 [==============================] - 1s 242us/step\n",
      "Results: -0.00 (0.00) MSE\n"
     ]
    }
   ],
   "source": [
    "# define base model\n",
    "def baseline_model():\n",
    "    ##define base model\n",
    "    model = Sequential()\n",
    "    model.add(Dense(32, input_shape=[features.shape[1]], kernel_initializer='normal', activation='linear'))\n",
    "    model.add(Dense(1, kernel_initializer='normal', activation=\"linear\"))\n",
    "    sgd=keras.optimizers.SGD(lr=0.01)\n",
    "    model.compile(loss='mean_squared_error', optimizer=sgd, metrics=['mse'])\n",
    "    return model\n",
    "\n",
    "# fix random seed for reproducibility\n",
    "seed = 7\n",
    "np.random.seed(seed)\n",
    "# evaluate model with standardized dataset\n",
    "estimator = KerasRegressor(build_fn=baseline_model, nb_epoch=100, batch_size=5, verbose=1)\n",
    "\n",
    "kfold = KFold(n_splits=10, random_state=seed)\n",
    "results = cross_val_score(estimator, features, targets, cv=kfold)\n",
    "print(\"Results: %.2f (%.2f) MSE\" % (results.mean(), results.std()))"
   ]
  },
  {
   "cell_type": "code",
   "execution_count": 159,
   "metadata": {},
   "outputs": [
    {
     "name": "stdout",
     "output_type": "stream",
     "text": [
      "Epoch 1/20\n",
      "38780/38780 [==============================] - 13s 334us/step - loss: 0.0014 - mean_squared_error: 0.0014\n",
      "Epoch 2/20\n",
      "38780/38780 [==============================] - 11s 287us/step - loss: 8.1315e-05 - mean_squared_error: 8.1315e-05\n",
      "Epoch 3/20\n",
      "38780/38780 [==============================] - 16s 423us/step - loss: 5.4484e-05 - mean_squared_error: 5.4484e-05\n",
      "Epoch 4/20\n",
      "38780/38780 [==============================] - 16s 406us/step - loss: 4.9920e-05 - mean_squared_error: 4.9920e-05\n",
      "Epoch 5/20\n",
      "38780/38780 [==============================] - 11s 283us/step - loss: 4.8666e-05 - mean_squared_error: 4.8666e-05\n",
      "Epoch 6/20\n",
      "38780/38780 [==============================] - 11s 292us/step - loss: 4.8215e-05 - mean_squared_error: 4.8215e-05\n",
      "Epoch 7/20\n",
      "38780/38780 [==============================] - 11s 286us/step - loss: 4.7928e-05 - mean_squared_error: 4.7928e-05\n",
      "Epoch 8/20\n",
      "38780/38780 [==============================] - 11s 281us/step - loss: 4.7798e-05 - mean_squared_error: 4.7798e-05\n",
      "Epoch 9/20\n",
      "38780/38780 [==============================] - 12s 297us/step - loss: 4.7673e-05 - mean_squared_error: 4.7673e-05\n",
      "Epoch 10/20\n",
      "38780/38780 [==============================] - 11s 283us/step - loss: 4.7627e-05 - mean_squared_error: 4.7627e-05\n",
      "Epoch 11/20\n",
      "38780/38780 [==============================] - 11s 287us/step - loss: 4.7553e-05 - mean_squared_error: 4.7553e-05s -\n",
      "Epoch 12/20\n",
      "38780/38780 [==============================] - 12s 297us/step - loss: 4.7506e-05 - mean_squared_error: 4.7506e-05\n",
      "Epoch 13/20\n",
      "38780/38780 [==============================] - 12s 318us/step - loss: 4.7523e-05 - mean_squared_error: 4.7523e-05\n",
      "Epoch 14/20\n",
      "38780/38780 [==============================] - 12s 301us/step - loss: 4.7505e-05 - mean_squared_error: 4.7505e-05\n",
      "Epoch 15/20\n",
      "38780/38780 [==============================] - 12s 302us/step - loss: 4.7471e-05 - mean_squared_error: 4.7471e-05\n",
      "Epoch 16/20\n",
      "38780/38780 [==============================] - 11s 293us/step - loss: 4.7454e-05 - mean_squared_error: 4.7454e-05\n",
      "Epoch 17/20\n",
      "38780/38780 [==============================] - 12s 302us/step - loss: 4.7479e-05 - mean_squared_error: 4.7479e-05\n",
      "Epoch 18/20\n",
      "38780/38780 [==============================] - 11s 295us/step - loss: 4.7468e-05 - mean_squared_error: 4.7468e-05\n",
      "Epoch 19/20\n",
      "38780/38780 [==============================] - 11s 295us/step - loss: 4.7461e-05 - mean_squared_error: 4.7461e-05\n",
      "Epoch 20/20\n",
      "38780/38780 [==============================] - 12s 303us/step - loss: 4.7467e-05 - mean_squared_error: 4.7467e-05\n"
     ]
    },
    {
     "data": {
      "text/plain": [
       "<keras.callbacks.History at 0x2a033ebeba8>"
      ]
     },
     "execution_count": 159,
     "metadata": {},
     "output_type": "execute_result"
    }
   ],
   "source": [
    "estimator.fit(features, targets, epochs=20, batch_size=5, verbose=1)"
   ]
  },
  {
   "cell_type": "code",
   "execution_count": 160,
   "metadata": {},
   "outputs": [
    {
     "name": "stdout",
     "output_type": "stream",
     "text": [
      "4309/4309 [==============================] - 1s 162us/step\n"
     ]
    }
   ],
   "source": [
    "prediction = estimator.predict(features_test)"
   ]
  },
  {
   "cell_type": "code",
   "execution_count": 161,
   "metadata": {},
   "outputs": [
    {
     "name": "stdout",
     "output_type": "stream",
     "text": [
      "4309/4309 [==============================] - 1s 201us/step\n"
     ]
    },
    {
     "data": {
      "text/plain": [
       "-4.7113686988434355e-05"
      ]
     },
     "execution_count": 161,
     "metadata": {},
     "output_type": "execute_result"
    }
   ],
   "source": [
    "estimator.score(features_test, targets_test)"
   ]
  },
  {
   "cell_type": "code",
   "execution_count": 162,
   "metadata": {},
   "outputs": [
    {
     "name": "stdout",
     "output_type": "stream",
     "text": [
      "4309/4309 [==============================] - 1s 118us/step\n",
      "4.71136827698e-05\n",
      "4309/4309 [==============================] - 1s 119us/step\n",
      "0.0050802491488\n"
     ]
    }
   ],
   "source": [
    "from sklearn.metrics import mean_squared_error\n",
    "score = mean_squared_error(targets_test, estimator.predict(features_test))\n",
    "print(score)\n",
    "from sklearn.metrics import mean_absolute_error\n",
    "score = mean_absolute_error(targets_test, estimator.predict(features_test))\n",
    "print(score)"
   ]
  },
  {
   "cell_type": "code",
   "execution_count": null,
   "metadata": {
    "collapsed": true
   },
   "outputs": [],
   "source": []
  }
 ],
 "metadata": {
  "kernelspec": {
   "display_name": "Python 3",
   "language": "python",
   "name": "python3"
  },
  "language_info": {
   "codemirror_mode": {
    "name": "ipython",
    "version": 3
   },
   "file_extension": ".py",
   "mimetype": "text/x-python",
   "name": "python",
   "nbconvert_exporter": "python",
   "pygments_lexer": "ipython3",
   "version": "3.6.1"
  }
 },
 "nbformat": 4,
 "nbformat_minor": 2
}
