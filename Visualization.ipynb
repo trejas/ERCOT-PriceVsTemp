{
 "cells": [
  {
   "cell_type": "markdown",
   "metadata": {},
   "source": [
    "# Predictive Analysis: Weather and ERCOT Prices"
   ]
  },
  {
   "cell_type": "markdown",
   "metadata": {},
   "source": [
    "![Power Lines](https://www.fae-group.com/images/applicazioni/header/Applications_power_lines_fae.jpg)"
   ]
  },
  {
   "cell_type": "markdown",
   "metadata": {},
   "source": [
    "The data for this analysis comes from:\n",
    "- [Weather](http://mrcc.isws.illinois.edu/) - Midwestern Regional Climate Center: MRCC\n",
    "- [Day Ahead Pricing](http://mis.ercot.com/misapp/GetReports.do?reportTypeId=13060&reportTitle=Historical%20DAM%20Load%20Zone%20and%20Hub%20Prices&showHTMLView=&mimicKey) - ERCOT Market Prices\n",
    "- [RTM Pricing](http://mis.ercot.com/misapp/GetReports.do?reportTypeId=13061&reportTitle=Historical%20RTM%20Load%20Zone%20and%20Hub%20Prices&showHTMLView=&mimicKey) - ERCOT Market Prices\n",
    "\n",
    "## Question\n",
    "1. Is there a correlation between weather and electricty pricing.\n",
    "2. Is the correlation stronger between Spot Pricing or Day ahead pricing?\n",
    "3. Can the correlation be used with a neural network to generate price prediction?\n",
    "4. If not, can the correlation be used to generate a pricing direction signal?\n",
    "\n",
    "## Methodology\n",
    "1. Download data from source sites\n",
    "2. Convert to CSV using VBA in excel\n",
    "3. Aggregate CSV files to single data frame for:\n",
    "  - Spot Pricing\n",
    "  - DA Pricing\n",
    "  - Weather\n",
    "4. Clean data and create calculated features\n",
    "5. Create Neural Net in Tensorflow\n",
    "6. Train and analyze\n",
    "7. Setup trained model as a webservice\n",
    "8. Feed forecast data to model to generate price predictions"
   ]
  },
  {
   "cell_type": "markdown",
   "metadata": {},
   "source": [
    "![Heat Map of Texas](http://www.ercot.com/content/wcm/landing_pages/88828/Weather_Map.png)"
   ]
  },
  {
   "cell_type": "markdown",
   "metadata": {},
   "source": [
    "### Import Components and Data"
   ]
  },
  {
   "cell_type": "code",
   "execution_count": 1,
   "metadata": {},
   "outputs": [
    {
     "name": "stdout",
     "output_type": "stream",
     "text": [
      "Spot Prices Loaded\n",
      "DA Prices Loaded\n",
      "Weather loaded\n"
     ]
    }
   ],
   "source": [
    "# import packages\n",
    "import matplotlib.pyplot as plt\n",
    "import datetime\n",
    "import pandas as pd\n",
    "import numpy as np\n",
    "\n",
    "# Data ingestion done in separate python scripts\n",
    "import load_spot_pricing_data as sp_pricing\n",
    "import load_day_ahead_pricing_data as da_pricing\n",
    "import load_weather_data as weather"
   ]
  },
  {
   "cell_type": "code",
   "execution_count": 2,
   "metadata": {},
   "outputs": [],
   "source": [
    "# Spot Pricing DataFrame\n",
    "sp_houston_2013 = sp_pricing.frame_2013[sp_pricing.frame_2013['Settlement Point Name'] == 'HB_HOUSTON'].copy()\n",
    "sp_houston_2013 = sp_houston_2013[sp_houston_2013['Delivery Interval'] <= 1]\n",
    "sp_houston_2013 = sp_houston_2013.sort_values(by=['Delivery Date', 'Delivery Hour']).reset_index(drop=True)\n",
    "sp_houston_2013['Hour Number'] = sp_houston_2013.index\n",
    "sp_houston_2013['Settlement Point Price'] = pd.to_numeric(sp_houston_2013['Settlement Point Price'], errors='coerce')\n",
    "sp_houston_2013['SPP 10 DMA'] = sp_houston_2013['Settlement Point Price'].rolling(window=240).mean()\n",
    "sp_houston_2013['SPP 10 Mean Dev'] = sp_houston_2013['Settlement Point Price'] - sp_houston_2013['SPP 10 DMA']\n",
    "\n",
    "# Day Ahead Pricing DataFrame\n",
    "da_houston_2013 = da_pricing.frame_2013[da_pricing.frame_2013['Settlement Point'] == 'HB_HOUSTON'].copy()\n",
    "da_houston_2013 = da_houston_2013.sort_values(by=['Delivery Date', 'Hour Ending']).reset_index(drop=True)\n",
    "da_houston_2013['Hour Number'] = da_houston_2013.index\n",
    "da_houston_2013['Settlement Point Price'] = pd.to_numeric(da_houston_2013['Settlement Point Price'], errors='coerce')\n",
    "da_houston_2013['SPP 10 DMA'] = da_houston_2013['Settlement Point Price'].rolling(window=240).mean()\n",
    "da_houston_2013['SPP 10 Mean Dev'] = da_houston_2013['Settlement Point Price'] - da_houston_2013['SPP 10 DMA']\n",
    "da_houston_2013['SPP 30 DMA'] = da_houston_2013['Settlement Point Price'].rolling(window=720).mean()\n",
    "da_houston_2013['SPP 30 Mean Dev'] = da_houston_2013['Settlement Point Price'] - da_houston_2013['SPP 30 DMA']\n",
    "\n",
    "# Weather DataFrame\n",
    "weather_2013 = weather.weather_df[weather.weather_df['Date'] < datetime.date(2014, 1, 1)]\n",
    "weather_2013 = weather_2013.sort_values(by=['Date']).reset_index(drop=True)\n",
    "weather_2013 = weather_2013.select_dtypes(['float', 'int'])\n",
    "weather_2013 = weather_2013.drop(['PeakWindGust', 'LowCloudHt', 'MedCloudHt', 'HighCloudHt', 'Visibility', 'WindDirection', 'SeaLevPress', 'Precip'], axis=1)\n",
    "weather_2013 = weather_2013.fillna(method='bfill')\n",
    "weather_2013['Temp 10 DMA'] = weather_2013['Temp'].rolling(window=240).mean()\n",
    "weather_2013['Temp 10 Mean Dev'] = weather_2013['Temp'] - weather_2013['Temp 10 DMA']\n",
    "weather_2013['Temp 30 DMA'] = weather_2013['Temp'].rolling(window=720).mean()\n",
    "weather_2013['Temp 30 Mean Dev'] = weather_2013['Temp'] - weather_2013['Temp 30 DMA']\n",
    "weather_2013['AtmPress 10 DMA'] = weather_2013['AtmPress'].rolling(window=240).mean()\n",
    "weather_2013['AtmPress 10 Mean Dev'] = weather_2013['AtmPress'] - weather_2013['AtmPress 10 DMA']\n",
    "weather_2013['AtmPress 30 DMA'] = weather_2013['AtmPress'].rolling(window=720).mean()\n",
    "weather_2013['AtmPress 30 Mean Dev'] = weather_2013['AtmPress'] - weather_2013['AtmPress 30 DMA']"
   ]
  },
  {
   "cell_type": "markdown",
   "metadata": {},
   "source": [
    "### Data Features"
   ]
  },
  {
   "cell_type": "code",
   "execution_count": 3,
   "metadata": {},
   "outputs": [],
   "source": [
    "sp_joined_2013_stats = weather_2013[['Temp',\n",
    "                                     'Temp 10 DMA',\n",
    "                                     'Temp 10 Mean Dev',\n",
    "                                     'AtmPress 10 Mean Dev']].join(sp_houston_2013[['Settlement Point Price', 'SPP 10 DMA', 'SPP 10 Mean Dev']])"
   ]
  },
  {
   "cell_type": "code",
   "execution_count": 4,
   "metadata": {
    "scrolled": false
   },
   "outputs": [
    {
     "name": "stdout",
     "output_type": "stream",
     "text": [
      "Temp 10 Mean Dev         -0.129637\n",
      "Temp 10 DMA               0.004886\n",
      "AtmPress 10 Mean Dev      0.051050\n",
      "SPP 10 Mean Dev           0.996870\n",
      "Settlement Point Price    1.000000\n",
      "Name: Settlement Point Price, dtype: float64\n"
     ]
    }
   ],
   "source": [
    "print(sp_joined_2013_stats.loc[3600:5600, ['Temp 10 Mean Dev',\n",
    "                                           'Temp 10 DMA',\n",
    "                                           'AtmPress 10 Mean Dev',\n",
    "                                           'SPP 10 Mean Dev', \n",
    "                                           'Settlement Point Price']].corr()['Settlement Point Price'])"
   ]
  },
  {
   "cell_type": "markdown",
   "metadata": {},
   "source": [
    "**While there is some correlation between the 'Settlement Point Price' and the other data fields. This does not look like it is storng enough to make any predictions.**"
   ]
  },
  {
   "cell_type": "code",
   "execution_count": 5,
   "metadata": {},
   "outputs": [],
   "source": [
    "da_joined_2013 = weather_2013[['Temp',\n",
    "                               'AtmPress',\n",
    "                               'Temp 10 DMA',\n",
    "                               'Temp 30 DMA',\n",
    "                               'AtmPress 10 DMA',\n",
    "                               'AtmPress 30 DMA',\n",
    "                               'Temp 10 Mean Dev',\n",
    "                               'Temp 30 Mean Dev',\n",
    "                               'AtmPress 10 Mean Dev',\n",
    "                               'AtmPress 30 Mean Dev']].join(da_houston_2013[['Settlement Point Price', 'SPP 10 DMA', 'SPP 30 DMA']])"
   ]
  },
  {
   "cell_type": "code",
   "execution_count": 6,
   "metadata": {},
   "outputs": [],
   "source": [
    "da_joined_2013 = da_joined_2013.dropna(axis=0, how='any')"
   ]
  },
  {
   "cell_type": "code",
   "execution_count": 7,
   "metadata": {},
   "outputs": [
    {
     "name": "stdout",
     "output_type": "stream",
     "text": [
      "AtmPress                  0.004510\n",
      "Temp                      0.006959\n",
      "AtmPress 10 DMA          -0.103630\n",
      "AtmPress 30 DMA          -0.110947\n",
      "AtmPress 10 Mean Dev      0.066078\n",
      "AtmPress 30 Mean Dev      0.059089\n",
      "SPP 10 DMA                0.199304\n",
      "SPP 30 DMA                0.175954\n",
      "Temp 10 DMA               0.131099\n",
      "Temp 30 DMA               0.124329\n",
      "Temp 10 Mean Dev         -0.151632\n",
      "Temp 30 Mean Dev         -0.130726\n",
      "Settlement Point Price    1.000000\n",
      "Name: Settlement Point Price, dtype: float64\n"
     ]
    }
   ],
   "source": [
    "print(da_joined_2013.loc[:, ['AtmPress',\n",
    "                             'Temp',\n",
    "                             'AtmPress 10 DMA',\n",
    "                             'AtmPress 30 DMA',\n",
    "                             'AtmPress 10 Mean Dev',\n",
    "                             'AtmPress 30 Mean Dev',\n",
    "                             'SPP 10 DMA',\n",
    "                             'SPP 30 DMA',\n",
    "                             'Temp 10 DMA',\n",
    "                             'Temp 30 DMA',\n",
    "                             'Temp 10 Mean Dev',\n",
    "                             'Temp 30 Mean Dev',\n",
    "                             'Settlement Point Price']].corr()['Settlement Point Price'])"
   ]
  },
  {
   "cell_type": "code",
   "execution_count": 8,
   "metadata": {},
   "outputs": [],
   "source": [
    "# Min-Max Normalize Joined DataFrame\n",
    "# da_joined_2013 = da_joined_2013[np.abs(da_joined_2013['Settlement Point Price']-da_joined_2013['Settlement Point Price'].mean())<=(2*da_joined_2013['Settlement Point Price'].std())]\n",
    "da_joined_2013 = (da_joined_2013-da_joined_2013.min())/(da_joined_2013.max()-da_joined_2013.min())\n",
    "da_joined_2013['Settlement Point Price'] = da_joined_2013.applymap(lambda x: np.log(x+1))"
   ]
  },
  {
   "cell_type": "code",
   "execution_count": 9,
   "metadata": {
    "scrolled": false
   },
   "outputs": [
    {
     "data": {
      "text/plain": [
       "<matplotlib.axes._subplots.AxesSubplot at 0x1fc465ff828>"
      ]
     },
     "execution_count": 9,
     "metadata": {},
     "output_type": "execute_result"
    },
    {
     "data": {
      "image/png": "[encoded data removed]",
      "text/plain": [
       "<matplotlib.figure.Figure at 0x1fc61539390>"
      ]
     },
     "metadata": {},
     "output_type": "display_data"
    }
   ],
   "source": [
    "da_joined_2013.reset_index().plot.scatter(x='index', y='Settlement Point Price', title='2013')"
   ]
  },
  {
   "cell_type": "code",
   "execution_count": 10,
   "metadata": {},
   "outputs": [
    {
     "data": {
      "text/plain": [
       "<matplotlib.axes._subplots.AxesSubplot at 0x1fc6139fcc0>"
      ]
     },
     "execution_count": 10,
     "metadata": {},
     "output_type": "execute_result"
    },
    {
     "data": {
      "image/png": "[encoded data removed]",
      "text/plain": [
       "<matplotlib.figure.Figure at 0x1fc613dfc88>"
      ]
     },
     "metadata": {},
     "output_type": "display_data"
    }
   ],
   "source": [
    "da_joined_2013.reset_index().plot.scatter(x='index', y='Temp', title='2013')"
   ]
  },
  {
   "cell_type": "code",
   "execution_count": 11,
   "metadata": {},
   "outputs": [
    {
     "data": {
      "text/plain": [
       "<matplotlib.axes._subplots.AxesSubplot at 0x1fc537bf9e8>"
      ]
     },
     "execution_count": 11,
     "metadata": {},
     "output_type": "execute_result"
    },
    {
     "data": {
      "image/png": "[encoded data removed]",
      "text/plain": [
       "<matplotlib.figure.Figure at 0x1fc53723828>"
      ]
     },
     "metadata": {},
     "output_type": "display_data"
    }
   ],
   "source": [
    "da_joined_2013.reset_index().plot.scatter(x='Settlement Point Price', y='Temp', title='2013')"
   ]
  },
  {
   "cell_type": "code",
   "execution_count": 104,
   "metadata": {
    "scrolled": false
   },
   "outputs": [
    {
     "data": {
      "text/plain": [
       "<matplotlib.axes._subplots.AxesSubplot at 0x15465aadf98>"
      ]
     },
     "execution_count": 104,
     "metadata": {},
     "output_type": "execute_result"
    },
    {
     "data": {
      "image/png": "[encoded data removed]",
      "text/plain": [
       "<matplotlib.figure.Figure at 0x15465a86828>"
      ]
     },
     "metadata": {},
     "output_type": "display_data"
    }
   ],
   "source": [
    "da_joined_2013[da_joined_2013[\"Settlement Point Price\"] > 0][\"Settlement Point Price\"].plot.hist(bins=200, figsize=[15,5], density=True)"
   ]
  },
  {
   "cell_type": "code",
   "execution_count": 105,
   "metadata": {
    "scrolled": true
   },
   "outputs": [
    {
     "data": {
      "text/plain": [
       "<matplotlib.axes._subplots.AxesSubplot at 0x15466ba2da0>"
      ]
     },
     "execution_count": 105,
     "metadata": {},
     "output_type": "execute_result"
    },
    {
     "data": {
      "image/png": "[encoded data removed]",
      "text/plain": [
       "<matplotlib.figure.Figure at 0x15465b42320>"
      ]
     },
     "metadata": {},
     "output_type": "display_data"
    }
   ],
   "source": [
    "da_joined_2013[\"Temp\"].plot.hist(bins=200, figsize=[15,5], density=True)"
   ]
  },
  {
   "cell_type": "code",
   "execution_count": 106,
   "metadata": {},
   "outputs": [
    {
     "name": "stdout",
     "output_type": "stream",
     "text": [
      "AtmPress                 -0.606635\n",
      "Temp                      0.997068\n",
      "AtmPress 10 DMA          -0.500653\n",
      "AtmPress 30 DMA          -0.657020\n",
      "AtmPress 10 Mean Dev     -0.357549\n",
      "AtmPress 30 Mean Dev     -0.350662\n",
      "SPP 10 DMA                0.366121\n",
      "SPP 30 DMA                0.490284\n",
      "Temp 10 DMA               0.764309\n",
      "Temp 30 DMA               0.742713\n",
      "Temp 10 Mean Dev          0.627643\n",
      "Temp 30 Mean Dev          0.672482\n",
      "Settlement Point Price    1.000000\n",
      "Name: Settlement Point Price, dtype: float64\n"
     ]
    }
   ],
   "source": [
    "print(da_joined_2013.loc[:, ['AtmPress',\n",
    "                             'Temp',\n",
    "                             'AtmPress 10 DMA',\n",
    "                             'AtmPress 30 DMA',\n",
    "                             'AtmPress 10 Mean Dev',\n",
    "                             'AtmPress 30 Mean Dev',\n",
    "                             'SPP 10 DMA',\n",
    "                             'SPP 30 DMA',\n",
    "                             'Temp 10 DMA',\n",
    "                             'Temp 30 DMA',\n",
    "                             'Temp 10 Mean Dev',\n",
    "                             'Temp 30 Mean Dev',\n",
    "                             'Settlement Point Price']].corr()['Settlement Point Price'])"
   ]
  },
  {
   "cell_type": "code",
   "execution_count": 107,
   "metadata": {
    "scrolled": false
   },
   "outputs": [
    {
     "data": {
      "text/plain": [
       "Settlement Point Price     674\n",
       "Hour Number                  0\n",
       "SPP 10 DMA                 971\n",
       "SPP 10 Mean Dev           6746\n",
       "SPP 30 DMA                1337\n",
       "SPP 30 Mean Dev           6961\n",
       "dtype: int64"
      ]
     },
     "execution_count": 107,
     "metadata": {},
     "output_type": "execute_result"
    }
   ],
   "source": [
    "da_houston_2013[da_houston_2013[\"Settlement Point Price\"] > 0].select_dtypes(include=np.number).idxmin(axis=0, skipna=True)"
   ]
  },
  {
   "cell_type": "code",
   "execution_count": 108,
   "metadata": {},
   "outputs": [
    {
     "data": {
      "text/plain": [
       "Delivery Date             01/01/2013\n",
       "Hour Ending                    01:00\n",
       "Repeated Hour Flag                 N\n",
       "Settlement Point          HB_HOUSTON\n",
       "Settlement Point Price            12\n",
       "Hour Number                        0\n",
       "SPP 10 DMA                   24.2067\n",
       "SPP 10 Mean Dev             -23.7334\n",
       "SPP 30 DMA                   24.6621\n",
       "SPP 30 Mean Dev             -23.1879\n",
       "dtype: object"
      ]
     },
     "execution_count": 108,
     "metadata": {},
     "output_type": "execute_result"
    }
   ],
   "source": [
    "da_houston_2013[da_houston_2013[\"Settlement Point Price\"] > 0].min()"
   ]
  },
  {
   "cell_type": "code",
   "execution_count": 109,
   "metadata": {},
   "outputs": [
    {
     "data": {
      "text/plain": [
       "Delivery Date             12/31/2013\n",
       "Hour Ending                    24:00\n",
       "Repeated Hour Flag                 Y\n",
       "Settlement Point          HB_HOUSTON\n",
       "Settlement Point Price        521.12\n",
       "Hour Number                     8759\n",
       "SPP 10 DMA                   43.1315\n",
       "SPP 10 Mean Dev              480.824\n",
       "SPP 30 DMA                   37.4056\n",
       "SPP 30 Mean Dev              484.576\n",
       "dtype: object"
      ]
     },
     "execution_count": 109,
     "metadata": {},
     "output_type": "execute_result"
    }
   ],
   "source": [
    "da_houston_2013[da_houston_2013[\"Settlement Point Price\"] > 0 ].max()"
   ]
  },
  {
   "cell_type": "markdown",
   "metadata": {},
   "source": [
    "### Prepping Data for training"
   ]
  },
  {
   "cell_type": "code",
   "execution_count": 167,
   "metadata": {},
   "outputs": [],
   "source": [
    "import keras\n",
    "from keras.utils import np_utils\n",
    "from keras.models import Sequential\n",
    "from keras.layers.core import Dense, Dropout, Activation\n",
    "from keras.wrappers.scikit_learn import KerasRegressor\n",
    "from sklearn.model_selection import cross_val_score\n",
    "from sklearn.model_selection import KFold"
   ]
  },
  {
   "cell_type": "code",
   "execution_count": 190,
   "metadata": {},
   "outputs": [
    {
     "name": "stdout",
     "output_type": "stream",
     "text": [
      "[[ 0.72368421  0.3042328   0.81286996  0.88443425  0.02954677  0.02590329\n",
      "   0.60582083  0.57014115  0.52316357  0.4595774   0.52642031  0.84858244]\n",
      " [ 0.77631579  0.42857143  0.97832729  0.97604959  0.27837177  0.26270956\n",
      "   0.5526352   0.58427939  0.54678319  0.52758968  0.81796405  0.91902381]\n",
      " [ 0.57894737  0.5         0.69390873  0.78227267  0.32267817  0.02143981\n",
      "   0.5099078   0.44416095  0.59841334  0.65990495  0.76013219  0.95178027]\n",
      " [ 0.63157895  0.36772487  0.94834829  0.99979874  0.29923316  0.16333293\n",
      "   0.39259667  0.38507994  0.48018794  0.49022761  0.58536183  0.99313155]\n",
      " [ 0.59210526  0.41269841  0.41244988  0.28825021  0.5055383   0.63130182\n",
      "   0.72925554  0.74829709  0.44385169  0.42034573  0.45598156  0.45312137]\n",
      " [ 0.32894737  0.68783069  0.30198587  0.20854969  0.25882967  0.44445621\n",
      "   0.4786019   0.45757356  0.80377787  0.74651226  0.14576086  0.05702272]\n",
      " [ 0.51315789  0.23280423  0.47746802  0.26578916  0.49674298  0.45504751\n",
      "   0.58332187  0.66023735  0.27415523  0.2808325   0.32079763  0.27547249]\n",
      " [ 0.61842105  0.60846561  0.58086691  0.50303909  0.39315065  0.28543545\n",
      "   0.64091097  0.65710072  0.6755828   0.70504455  0.4093343   0.70559732]\n",
      " [ 0.81578947  0.32275132  0.93030361  0.99686028  0.32031443  0.18159535\n",
      "   0.63678272  0.62273823  0.42878052  0.4399466   0.50955314  0.9711159 ]\n",
      " [ 0.48684211  0.48412698  0.6018713   0.67620658  0.3692109   0.13281486\n",
      "   0.46064401  0.38786545  0.56518465  0.61622737  0.47418956  0.91415312]]\n",
      "[ 0.54446398  0.57454144  0.4567584   0.48954823  0.46505721  0.28438718\n",
      "  0.41419879  0.48145102  0.59652034  0.39665448]\n"
     ]
    }
   ],
   "source": [
    "# Take a random sample for testing\n",
    "sample = np.random.choice(da_joined_2013.index, size=int(len(da_joined_2013)*0.9), replace=False)\n",
    "train_data = da_joined_2013.loc[sample]\n",
    "test_data = da_joined_2013.drop(sample)\n",
    "features = np.array(train_data.drop('Settlement Point Price', axis=1))\n",
    "targets = np.array(train_data['Settlement Point Price'])\n",
    "features_test =  np.array(test_data.drop('Settlement Point Price', axis=1))\n",
    "targets_test = np.array(test_data['Settlement Point Price'])\n",
    "\n",
    "print(features[:10])\n",
    "print(targets[:10])"
   ]
  },
  {
   "cell_type": "markdown",
   "metadata": {},
   "source": [
    "#### Train and evaluate with simple MSE manual validation"
   ]
  },
  {
   "cell_type": "code",
   "execution_count": 191,
   "metadata": {},
   "outputs": [
    {
     "name": "stdout",
     "output_type": "stream",
     "text": [
      "Train on 7235 samples, validate on 804 samples\n",
      "Epoch 1/5\n",
      "7235/7235 [==============================] - 24s 3ms/step - loss: 0.0120 - mean_squared_error: 0.0120 - val_loss: 0.0046 - val_mean_squared_error: 0.0046\n",
      "Epoch 2/5\n",
      "7235/7235 [==============================] - 26s 4ms/step - loss: 0.0019 - mean_squared_error: 0.0019 - val_loss: 9.7011e-04 - val_mean_squared_error: 9.7011e-04\n",
      "Epoch 3/5\n",
      "7235/7235 [==============================] - 23s 3ms/step - loss: 6.0600e-04 - mean_squared_error: 6.0600e-04 - val_loss: 4.3393e-04 - val_mean_squared_error: 4.3393e-04\n",
      "Epoch 4/5\n",
      "7235/7235 [==============================] - 25s 3ms/step - loss: 3.1024e-04 - mean_squared_error: 3.1024e-04 - val_loss: 2.5449e-04 - val_mean_squared_error: 2.5449e-04\n",
      "Epoch 5/5\n",
      "7235/7235 [==============================] - 23s 3ms/step - loss: 1.8925e-04 - mean_squared_error: 1.8925e-04 - val_loss: 1.7021e-04 - val_mean_squared_error: 1.7021e-04\n"
     ]
    },
    {
     "data": {
      "text/plain": [
       "<keras.callbacks.History at 0x15476211e80>"
      ]
     },
     "execution_count": 191,
     "metadata": {},
     "output_type": "execute_result"
    }
   ],
   "source": [
    "##define base model\n",
    "model = Sequential()\n",
    "model.add(Dense(32, input_shape=[features.shape[1]], kernel_initializer='normal', activation='sigmoid'))\n",
    "model.add(Dense(1, kernel_initializer='normal', activation=\"linear\"))\n",
    "sgd=keras.optimizers.SGD(lr=0.01)\n",
    "model.compile(optimizer=sgd ,loss='mse',metrics=['mse'])\n",
    "\n",
    "# Train Model\n",
    "model.fit(features,targets, validation_data=[features_test, targets_test], batch_size=1, epochs=5, shuffle=False, verbose=1)"
   ]
  },
  {
   "cell_type": "code",
   "execution_count": 193,
   "metadata": {},
   "outputs": [
    {
     "data": {
      "text/plain": [
       "array([[ 0.45256519]], dtype=float32)"
      ]
     },
     "execution_count": 193,
     "metadata": {},
     "output_type": "execute_result"
    }
   ],
   "source": [
    "model.predict(features[2].reshape(-1,12))"
   ]
  },
  {
   "cell_type": "markdown",
   "metadata": {},
   "source": [
    "#### Train and evaluate with Manual k-Fold Cross Validation"
   ]
  },
  {
   "cell_type": "code",
   "execution_count": 176,
   "metadata": {},
   "outputs": [
    {
     "name": "stdout",
     "output_type": "stream",
     "text": [
      "Epoch 1/1\n",
      "6511/6511 [==============================] - 7s 1ms/step - loss: 0.0068 - mean_squared_error: 0.0068\n",
      "724/724 [==============================] - 1s 1ms/step\n",
      "Epoch 1/1\n",
      "6511/6511 [==============================] - 6s 946us/step - loss: 0.0085 - mean_squared_error: 0.0085\n",
      "724/724 [==============================] - 1s 2ms/step\n",
      "Epoch 1/1\n",
      "6511/6511 [==============================] - 6s 985us/step - loss: 0.0088 - mean_squared_error: 0.0088\n",
      "724/724 [==============================] - 1s 1ms/step\n",
      "Epoch 1/1\n"
     ]
    },
    {
     "name": "stderr",
     "output_type": "stream",
     "text": [
      "Exception ignored in: <bound method ScopedTFStatus.__del__ of <tensorflow.python.framework.c_api_util.ScopedTFStatus object at 0x000001546F795898>>\n",
      "Traceback (most recent call last):\n",
      "  File \"c:\\python\\.virtualenv\\ercot\\lib\\site-packages\\tensorflow\\python\\framework\\c_api_util.py\", line 36, in __del__\n",
      "    c_api.TF_DeleteStatus(self.status)\n",
      "AttributeError: 'ScopedTFStatus' object has no attribute 'status'\n"
     ]
    },
    {
     "name": "stdout",
     "output_type": "stream",
     "text": [
      "6511/6511 [==============================] - 8s 1ms/step - loss: 0.0100 - mean_squared_error: 0.0100\n",
      "724/724 [==============================] - 1s 1ms/step\n",
      "Epoch 1/1\n",
      "6511/6511 [==============================] - 6s 955us/step - loss: 0.0093 - mean_squared_error: 0.0093\n",
      "724/724 [==============================] - 1s 2ms/step\n",
      "Epoch 1/1\n",
      "6512/6512 [==============================] - 7s 1ms/step - loss: 0.0081 - mean_squared_error: 0.0081\n",
      "723/723 [==============================] - 1s 1ms/step\n",
      "Epoch 1/1\n",
      "6512/6512 [==============================] - 7s 1ms/step - loss: 0.0088 - mean_squared_error: 0.0088\n",
      "723/723 [==============================] - 1s 2ms/step\n",
      "Epoch 1/1\n",
      "6512/6512 [==============================] - 6s 985us/step - loss: 0.0079 - mean_squared_error: 0.0079\n",
      "723/723 [==============================] - 1s 2ms/step\n",
      "Epoch 1/1\n",
      "6512/6512 [==============================] - 7s 1ms/step - loss: 0.0075 - mean_squared_error: 0.0075\n",
      "723/723 [==============================] - 1s 2ms/step\n",
      "Epoch 1/1\n",
      "6512/6512 [==============================] - 8s 1ms/step - loss: 0.0084 - mean_squared_error: 0.0084\n",
      "723/723 [==============================] - 1s 2ms/step\n",
      "Results: -0.00 (0.00) MSE\n"
     ]
    }
   ],
   "source": [
    "# define base model\n",
    "def baseline_model():\n",
    "    ##define base model\n",
    "    model = Sequential()\n",
    "    model.add(Dense(32, input_shape=[features.shape[1]], kernel_initializer='normal', activation='linear'))\n",
    "    model.add(Dense(1, kernel_initializer='normal', activation=\"linear\"))\n",
    "    sgd=keras.optimizers.SGD(lr=0.01)\n",
    "    model.compile(loss='mean_squared_error', optimizer=sgd, metrics=['mse'])\n",
    "    return model\n",
    "\n",
    "# fix random seed for reproducibility\n",
    "seed = 7\n",
    "np.random.seed(seed)\n",
    "# evaluate model with standardized dataset\n",
    "estimator = KerasRegressor(build_fn=baseline_model, nb_epoch=100, batch_size=5, verbose=1)\n",
    "\n",
    "kfold = KFold(n_splits=10, random_state=seed)\n",
    "results = cross_val_score(estimator, features, targets, cv=kfold)\n",
    "print(\"Results: %.2f (%.2f) MSE\" % (results.mean(), results.std()))"
   ]
  },
  {
   "cell_type": "code",
   "execution_count": 183,
   "metadata": {},
   "outputs": [
    {
     "name": "stderr",
     "output_type": "stream",
     "text": [
      "c:\\python\\.virtualenv\\ercot\\lib\\site-packages\\keras\\models.py:939: UserWarning: The `nb_epoch` argument in `fit` has been renamed `epochs`.\n",
      "  warnings.warn('The `nb_epoch` argument in `fit` '\n"
     ]
    },
    {
     "name": "stdout",
     "output_type": "stream",
     "text": [
      "Epoch 1/20\n",
      "7235/7235 [==============================] - 4s 540us/step - loss: 0.0071 - mean_squared_error: 0.0071\n",
      "Epoch 2/20\n",
      "7235/7235 [==============================] - 3s 364us/step - loss: 9.9701e-04 - mean_squared_error: 9.9701e-04\n",
      "Epoch 3/20\n",
      "7235/7235 [==============================] - 3s 399us/step - loss: 3.5121e-04 - mean_squared_error: 3.5121e-04\n",
      "Epoch 4/20\n",
      "7235/7235 [==============================] - 3s 431us/step - loss: 2.2424e-04 - mean_squared_error: 2.2424e-04\n",
      "Epoch 5/20\n",
      "7235/7235 [==============================] - 3s 376us/step - loss: 1.7252e-04 - mean_squared_error: 1.7252e-04\n",
      "Epoch 6/20\n",
      "7235/7235 [==============================] - 3s 401us/step - loss: 1.4242e-04 - mean_squared_error: 1.4242e-04\n",
      "Epoch 7/20\n",
      "7235/7235 [==============================] - 3s 398us/step - loss: 1.2342e-04 - mean_squared_error: 1.2342e-04\n",
      "Epoch 8/20\n",
      "7235/7235 [==============================] - 3s 407us/step - loss: 1.1113e-04 - mean_squared_error: 1.1113e-04\n",
      "Epoch 9/20\n",
      "7235/7235 [==============================] - 3s 372us/step - loss: 1.0331e-04 - mean_squared_error: 1.0331e-04\n",
      "Epoch 10/20\n",
      "7235/7235 [==============================] - 3s 386us/step - loss: 9.8309e-05 - mean_squared_error: 9.8309e-05\n",
      "Epoch 11/20\n",
      "7235/7235 [==============================] - 3s 424us/step - loss: 9.4841e-05 - mean_squared_error: 9.4841e-05\n",
      "Epoch 12/20\n",
      "7235/7235 [==============================] - 3s 434us/step - loss: 9.2405e-05 - mean_squared_error: 9.2405e-05\n",
      "Epoch 13/20\n",
      "7235/7235 [==============================] - 3s 456us/step - loss: 9.0829e-05 - mean_squared_error: 9.0829e-05\n",
      "Epoch 14/20\n",
      "7235/7235 [==============================] - 3s 431us/step - loss: 8.9752e-05 - mean_squared_error: 8.9752e-05\n",
      "Epoch 15/20\n",
      "7235/7235 [==============================] - 3s 459us/step - loss: 8.8953e-05 - mean_squared_error: 8.8953e-05\n",
      "Epoch 16/20\n",
      "7235/7235 [==============================] - 4s 503us/step - loss: 8.8528e-05 - mean_squared_error: 8.8528e-05\n",
      "Epoch 17/20\n",
      "7235/7235 [==============================] - 3s 408us/step - loss: 8.7967e-05 - mean_squared_error: 8.7967e-05\n",
      "Epoch 18/20\n",
      "7235/7235 [==============================] - 3s 408us/step - loss: 8.7596e-05 - mean_squared_error: 8.7596e-05\n",
      "Epoch 19/20\n",
      "7235/7235 [==============================] - 3s 400us/step - loss: 8.7456e-05 - mean_squared_error: 8.7456e-05\n",
      "Epoch 20/20\n",
      "7235/7235 [==============================] - 3s 425us/step - loss: 8.7316e-05 - mean_squared_error: 8.7316e-05\n"
     ]
    },
    {
     "data": {
      "text/plain": [
       "<keras.callbacks.History at 0x15475e5fb00>"
      ]
     },
     "execution_count": 183,
     "metadata": {},
     "output_type": "execute_result"
    }
   ],
   "source": [
    "estimator.fit(features, targets, epochs=20, batch_size=5, verbose=1)"
   ]
  },
  {
   "cell_type": "code",
   "execution_count": 184,
   "metadata": {},
   "outputs": [
    {
     "name": "stdout",
     "output_type": "stream",
     "text": [
      "804/804 [==============================] - 1s 923us/step\n"
     ]
    }
   ],
   "source": [
    "prediction = estimator.predict(features_test)"
   ]
  },
  {
   "cell_type": "code",
   "execution_count": 185,
   "metadata": {},
   "outputs": [
    {
     "name": "stdout",
     "output_type": "stream",
     "text": [
      "804/804 [==============================] - 1s 961us/step\n"
     ]
    },
    {
     "data": {
      "text/plain": [
       "-9.5297746680892063e-05"
      ]
     },
     "execution_count": 185,
     "metadata": {},
     "output_type": "execute_result"
    }
   ],
   "source": [
    "estimator.score(features_test, targets_test)"
   ]
  },
  {
   "cell_type": "code",
   "execution_count": 189,
   "metadata": {},
   "outputs": [
    {
     "name": "stdout",
     "output_type": "stream",
     "text": [
      "804/804 [==============================] - 0s 269us/step\n",
      "9.52977633389e-05\n",
      "804/804 [==============================] - 0s 244us/step\n",
      "0.00707992131901\n"
     ]
    }
   ],
   "source": [
    "from sklearn.metrics import mean_squared_error\n",
    "score = mean_squared_error(targets_test, estimator.predict(features_test))\n",
    "print(score)\n",
    "from sklearn.metrics import mean_absolute_error\n",
    "score = mean_absolute_error(targets_test, estimator.predict(features_test))\n",
    "print(score)"
   ]
  },
  {
   "cell_type": "code",
   "execution_count": null,
   "metadata": {
    "collapsed": true
   },
   "outputs": [],
   "source": []
  }
 ],
 "metadata": {
  "kernelspec": {
   "display_name": "Python 3",
   "language": "python",
   "name": "python3"
  },
  "language_info": {
   "codemirror_mode": {
    "name": "ipython",
    "version": 3
   },
   "file_extension": ".py",
   "mimetype": "text/x-python",
   "name": "python",
   "nbconvert_exporter": "python",
   "pygments_lexer": "ipython3",
   "version": "3.6.1"
  }
 },
 "nbformat": 4,
 "nbformat_minor": 2
}
